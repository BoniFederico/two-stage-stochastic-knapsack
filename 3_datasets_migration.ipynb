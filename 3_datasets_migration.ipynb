{
 "cells": [
  {
   "cell_type": "markdown",
   "metadata": {},
   "source": [
    "# Dataset & Open Format\n",
    "<hr> "
   ]
  },
  {
   "cell_type": "markdown",
   "metadata": {},
   "source": [
    "In the other notebook we have generated all the instances of the problem using the class Data. For simplicity, datasets have been stored using the Python module called Pickle, a module that allow us to store complex objects by serializing and saving them in binary files:"
   ]
  },
  {
   "cell_type": "code",
   "execution_count": null,
   "metadata": {},
   "outputs": [],
   "source": [
    "import pickle"
   ]
  },
  {
   "cell_type": "markdown",
   "metadata": {},
   "source": [
    "Unfortunately this workflow for datasets persistency doesn't allow us to have proprieties such as:\n",
    "- Openess of the format\n",
    "- Human readability\n",
    "- Portability\n",
    "\n",
    "Considering this fact, the code for migrate a pickle-like dataset to json is provided in this notebook. <br> By executing this notebook, we create json datasets from the pickle ones."
   ]
  },
  {
   "cell_type": "markdown",
   "metadata": {},
   "source": [
    "#### Migration of dataset_paper_analysis dataset:"
   ]
  },
  {
   "cell_type": "code",
   "execution_count": null,
   "metadata": {},
   "outputs": [],
   "source": [
    "from managers.data import Data\n",
    "from pathlib import Path\n",
    "import json\n",
    "\n",
    "if os.path.isdir(\"dataset\"):\n",
    "    if os.path.isfile(\"dataset/dataset_paper_analysis\"):\n",
    "        infile = open(\"dataset/dataset_paper_analysis\",'rb')\n",
    "        instance_sets = pickle.load(infile)\n",
    "        infile.close()\n",
    "else:\n",
    "    raise Exception(\"Cannot find dataset! You must execute the first notebook if you have no dataset folder\")\n",
    "\n",
    "list_of_dic_sets=list()\n",
    "\n",
    "for el in instance_sets:\n",
    "    for instance in el:\n",
    "        instance_dic= {\n",
    "            \"type\": instance,\n",
    "            \"instance\": el[instance].get_instance_as_dict()\n",
    "        }\n",
    "        list_of_dic_sets.append(instance_dic)\n",
    " \n",
    "Path(\"dataset/json\").mkdir(parents=True, exist_ok=True) \n",
    "# convert into json\n",
    "with open('dataset/json/dataset_paper_analysis.json', 'w') as js:\n",
    "    json.dump(list_of_dic_sets , js)"
   ]
  },
  {
   "cell_type": "markdown",
   "metadata": {},
   "source": [
    "#### Migration of dataset_scalability_analysis dataset:"
   ]
  },
  {
   "cell_type": "code",
   "execution_count": null,
   "metadata": {},
   "outputs": [],
   "source": [
    "from managers.data import Data\n",
    "from pathlib import Path\n",
    "import json\n",
    "\n",
    "if os.path.isdir(\"dataset\"):\n",
    "    if os.path.isfile(\"dataset/dataset_scalability_analysis\"):\n",
    "        infile = open(\"dataset/dataset_scalability_analysis\",'rb')\n",
    "        instance_sets = pickle.load(infile)\n",
    "        infile.close()\n",
    "else:\n",
    "    raise Exception(\"Cannot find dataset! You must execute the first notebook if you have no dataset folder\")\n",
    "\n",
    "list_of_dic_sets=list()\n",
    "\n",
    "for key in instance_sets.keys():\n",
    "    for instances in instance_sets[key]:\n",
    "        for inst in instances:\n",
    "            inst_as_dic=inst.get_instance_as_dict()\n",
    "            N=inst_as_dic[\"N\"]\n",
    "            S=inst_as_dic[\"S\"]\n",
    "            instance_dic={\n",
    "                \"type\": key,\n",
    "                \"N\":N,\n",
    "                \"S\":S,\n",
    "                \"instance\": inst_as_dic\n",
    "            }\n",
    "        list_of_dic_sets.append(instance_dic)\n",
    " \n",
    "Path(\"dataset/json\").mkdir(parents=True, exist_ok=True) \n",
    "# convert into json\n",
    "with open('dataset/json/dataset_scalability_analysis.json', 'w') as js:\n",
    "    json.dump(list_of_dic_sets , js)"
   ]
  }
 ],
 "metadata": {
  "kernelspec": {
   "display_name": "Python 3.10.1 64-bit",
   "language": "python",
   "name": "python3"
  },
  "language_info": {
   "codemirror_mode": {
    "name": "ipython",
    "version": 3
   },
   "file_extension": ".py",
   "mimetype": "text/x-python",
   "name": "python",
   "nbconvert_exporter": "python",
   "pygments_lexer": "ipython3",
   "version": "3.10.1"
  },
  "orig_nbformat": 4,
  "vscode": {
   "interpreter": {
    "hash": "369f2c481f4da34e4445cda3fffd2e751bd1c4d706f27375911949ba6bb62e1c"
   }
  }
 },
 "nbformat": 4,
 "nbformat_minor": 2
}
